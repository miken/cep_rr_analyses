{
 "metadata": {
  "name": "",
  "signature": "sha256:b49ff3550554d4989a06bab40d4309b8f12c9cada2ebe847dda9ef18524c9c87"
 },
 "nbformat": 3,
 "nbformat_minor": 0,
 "worksheets": [
  {
   "cells": [
    {
     "cell_type": "markdown",
     "metadata": {},
     "source": [
      "# GPR Clients Response Rate Analyses\n",
      "Last updated October 15, 2014 by [Mike Nguyen](https://github.com/miken)\n",
      "\n",
      "This page summarizes analyses on clients' response rate data over several rounds of survey administration. The analyses will help us better understand how response rates fluctuate and respond to other factors.\n",
      "\n",
      "## Questions to Examine\n",
      "\n",
      "- What is the expected variations in response rate?\n",
      "- Is there a correlation between response rate and bounce rate?\n",
      "- Is there a correlation between response rate and target size?\n",
      "- What is the variation in response rates by season?\n",
      "- By season, is there a difference in pace of response rate gains, e.g., does Fall have a slow start?\n",
      "\n",
      "## Methodology\n",
      "\n",
      "We used response rate data for 101 GPR clients collected over 8 rounds, from 12S to 14X.\n",
      "\n",
      "The following code block is used to initiate client data for analyses. You may ignore it."
     ]
    },
    {
     "cell_type": "code",
     "collapsed": false,
     "input": [
      "from ops import get_client_rr\n",
      "client_rr = get_client_rr()"
     ],
     "language": "python",
     "metadata": {},
     "outputs": [],
     "prompt_number": 1
    },
    {
     "cell_type": "markdown",
     "metadata": {},
     "source": []
    }
   ],
   "metadata": {}
  }
 ]
}