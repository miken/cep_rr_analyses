{
 "metadata": {
  "name": "",
  "signature": "sha256:7922b3d912acd26bfc41d27159295f2cf373dd293b19de0f6882deca1e21d0c5"
 },
 "nbformat": 3,
 "nbformat_minor": 0,
 "worksheets": [
  {
   "cells": [
    {
     "cell_type": "markdown",
     "metadata": {},
     "source": [
      "![CEP Logo](http://www.effectivephilanthropy.org/wp-content/uploads/2013/04/CEP-logo1-300x120.png)\n",
      "\n",
      "# GPR Clients Response Rate Analyses\n",
      "Last updated October 15, 2014 by [Mike Nguyen](https://github.com/miken)\n",
      "\n",
      "This page summarizes analyses on clients' response rate data over several rounds of survey administration. The analyses will help us better understand how response rates fluctuate and respond to other factors.\n",
      "\n",
      "## Questions to Examine\n",
      "\n",
      "- What is the expected variations in overall response rates?\n",
      "- What is the variation in response rates by season?\n",
      "- By season, is there a difference in pace of response rate gains, e.g., does Fall have a slow start?\n",
      "- Is there a correlation between response rate and bounce rate?\n",
      "- Is there a correlation between response rate and target size?\n",
      "\n",
      "## Summary of Findings\n",
      "\n",
      "If you want to skip all the fluff, here's everything you need to know about the expected variations in response rates\n",
      "\n",
      "- In the past 8 rounds, the average response rate across the board is 71%. The highest response rate observed is 90% and the lowest is 49%\n",
      "- 95% of the times, we can expect the response rate for a given GPR client to be anywhere between 53% and 88%\n",
      "- finding 2\n",
      "- finding 3\n",
      "\n",
      "___"
     ]
    },
    {
     "cell_type": "markdown",
     "metadata": {},
     "source": [
      "## Methodology\n",
      "\n",
      "We used response rate data for 101 GPR clients collected over 8 rounds, from 12S to 14X.\n",
      "\n",
      "The following code block is used to initiate overall client dataset for analyses. You may ignore it."
     ]
    },
    {
     "cell_type": "code",
     "collapsed": false,
     "input": [
      "from ops import to_perc, get_client_rr, rr_stats_by_round\n",
      "client_rr = get_client_rr()"
     ],
     "language": "python",
     "metadata": {},
     "outputs": [],
     "prompt_number": 1
    },
    {
     "cell_type": "markdown",
     "metadata": {},
     "source": [
      "The sections below provide more details on the analysis steps performed.\n",
      "___"
     ]
    },
    {
     "cell_type": "markdown",
     "metadata": {},
     "source": [
      "## What is the expected variations in overall response rates?\n",
      "\n",
      "To answer this question, I first obtain descriptive statistics of the overall client dataset."
     ]
    },
    {
     "cell_type": "code",
     "collapsed": false,
     "input": [
      "# Here's how the descriptive statistics of the response rate dataset look\n",
      "rr_global_stats = client_rr.describe()\n",
      "rr_global_stats[\"Final\"]"
     ],
     "language": "python",
     "metadata": {},
     "outputs": [
      {
       "metadata": {},
       "output_type": "pyout",
       "prompt_number": 2,
       "text": [
        "count    101.000000\n",
        "mean       0.705454\n",
        "std        0.089551\n",
        "min        0.489691\n",
        "25%        0.639798\n",
        "50%        0.691983\n",
        "75%        0.770833\n",
        "max        0.897959\n",
        "Name: Final, dtype: float64"
       ]
      }
     ],
     "prompt_number": 2
    },
    {
     "cell_type": "markdown",
     "metadata": {},
     "source": [
      "From the descriptives above, the average response rate across the board is 71%. The highest response rate observed is 90% and the lowest is 49%.\n",
      "\n",
      "Following the [sigma rule](http://en.wikipedia.org/wiki/68%E2%80%9395%E2%80%9399.7_rule), I compute the range of response rates that we would expect to see most of the times for any GPR client."
     ]
    },
    {
     "cell_type": "code",
     "collapsed": false,
     "input": [
      "mean = rr_global_stats.ix['mean', 'Final'] \n",
      "std = rr_global_stats.ix['std', 'Final']\n",
      "# Compute the low and the high values \n",
      "# 67% range of response rates\n",
      "low_rr_67 = mean - 2*std\n",
      "high_rr_67 = mean + 2*std\n",
      "print 'We can expect 95% of the times for response rates to be between {low}-{high}'.format(\n",
      "    low=to_perc(low_rr_67),\n",
      "    high=to_perc(high_rr_67)\n",
      ")"
     ],
     "language": "python",
     "metadata": {},
     "outputs": [
      {
       "output_type": "stream",
       "stream": "stdout",
       "text": [
        "We can expect 95% of the times for response rates to be between 53%-88%\n"
       ]
      }
     ],
     "prompt_number": 3
    },
    {
     "cell_type": "markdown",
     "metadata": {},
     "source": [
      "The finding above concludes the analysis performed on overall variations of response rates.\n",
      "___"
     ]
    },
    {
     "cell_type": "markdown",
     "metadata": {},
     "source": [
      "## Response Rate Variation By Season or Within a Round\n",
      "\n",
      "We have had several questions around this topic, including:\n",
      "\n",
      "- What is the variation in response rate across rounds/seasons? (Any expected differences across Fall/ Winter/Spring)?\n",
      "- What is the pace within those rounds, e.g. does fall have slow start?\n",
      "\n",
      "To answer these questions, I first generate a table of mean response rates over weeks in each round of administration. The following block code will get us the data we need."
     ]
    },
    {
     "cell_type": "code",
     "collapsed": false,
     "input": [
      "# Retrieve descriptive statistics by round\n",
      "round_stats = rr_stats_by_round(client_rr)\n",
      "round_stats"
     ],
     "language": "python",
     "metadata": {},
     "outputs": [
      {
       "html": [
        "<div style=\"max-height:1000px;max-width:1500px;overflow:auto;\">\n",
        "<table border=\"1\" class=\"dataframe\">\n",
        "  <thead>\n",
        "    <tr style=\"text-align: right;\">\n",
        "      <th></th>\n",
        "      <th>#Bounces</th>\n",
        "      <th>%Bounces</th>\n",
        "      <th>Final</th>\n",
        "      <th>Targets</th>\n",
        "      <th>Week 1</th>\n",
        "      <th>Week 2</th>\n",
        "      <th>Week 3</th>\n",
        "      <th>Week 4</th>\n",
        "      <th>Week 5</th>\n",
        "      <th>Week 6</th>\n",
        "    </tr>\n",
        "  </thead>\n",
        "  <tbody>\n",
        "    <tr>\n",
        "      <th>12S</th>\n",
        "      <td>  6.153846</td>\n",
        "      <td> 0.028000</td>\n",
        "      <td> 0.742182</td>\n",
        "      <td> 212.000000</td>\n",
        "      <td> 0.129027</td>\n",
        "      <td> 0.312678</td>\n",
        "      <td> 0.429805</td>\n",
        "      <td> 0.511060</td>\n",
        "      <td> 0.616156</td>\n",
        "      <td> 0.698942</td>\n",
        "    </tr>\n",
        "    <tr>\n",
        "      <th>12X</th>\n",
        "      <td>  9.363636</td>\n",
        "      <td> 0.011182</td>\n",
        "      <td> 0.724608</td>\n",
        "      <td> 524.727273</td>\n",
        "      <td> 0.184481</td>\n",
        "      <td> 0.284356</td>\n",
        "      <td> 0.410241</td>\n",
        "      <td> 0.509324</td>\n",
        "      <td> 0.599800</td>\n",
        "      <td> 0.712279</td>\n",
        "    </tr>\n",
        "    <tr>\n",
        "      <th>12F</th>\n",
        "      <td>  4.500000</td>\n",
        "      <td> 0.015411</td>\n",
        "      <td> 0.709429</td>\n",
        "      <td> 291.625000</td>\n",
        "      <td> 0.116879</td>\n",
        "      <td> 0.217713</td>\n",
        "      <td> 0.326194</td>\n",
        "      <td> 0.401153</td>\n",
        "      <td> 0.600609</td>\n",
        "      <td> 0.692081</td>\n",
        "    </tr>\n",
        "    <tr>\n",
        "      <th>13S</th>\n",
        "      <td>  9.100000</td>\n",
        "      <td> 0.016062</td>\n",
        "      <td> 0.689533</td>\n",
        "      <td> 460.500000</td>\n",
        "      <td> 0.103894</td>\n",
        "      <td> 0.244690</td>\n",
        "      <td> 0.342716</td>\n",
        "      <td> 0.413866</td>\n",
        "      <td> 0.570400</td>\n",
        "      <td> 0.665306</td>\n",
        "    </tr>\n",
        "    <tr>\n",
        "      <th>13X</th>\n",
        "      <td>  0.555556</td>\n",
        "      <td> 0.004020</td>\n",
        "      <td> 0.747325</td>\n",
        "      <td> 138.333333</td>\n",
        "      <td> 0.179453</td>\n",
        "      <td> 0.329407</td>\n",
        "      <td> 0.426832</td>\n",
        "      <td> 0.521058</td>\n",
        "      <td> 0.647530</td>\n",
        "      <td> 0.725291</td>\n",
        "    </tr>\n",
        "    <tr>\n",
        "      <th>13F</th>\n",
        "      <td> 13.363636</td>\n",
        "      <td> 0.021754</td>\n",
        "      <td> 0.714550</td>\n",
        "      <td> 383.181818</td>\n",
        "      <td> 0.125097</td>\n",
        "      <td> 0.246767</td>\n",
        "      <td> 0.364901</td>\n",
        "      <td> 0.460820</td>\n",
        "      <td> 0.594584</td>\n",
        "      <td> 0.692178</td>\n",
        "    </tr>\n",
        "    <tr>\n",
        "      <th>14S</th>\n",
        "      <td>  0.933333</td>\n",
        "      <td> 0.006205</td>\n",
        "      <td> 0.680076</td>\n",
        "      <td> 188.333333</td>\n",
        "      <td> 0.146100</td>\n",
        "      <td> 0.289484</td>\n",
        "      <td> 0.402183</td>\n",
        "      <td> 0.487027</td>\n",
        "      <td> 0.588482</td>\n",
        "      <td> 0.650898</td>\n",
        "    </tr>\n",
        "    <tr>\n",
        "      <th>14X</th>\n",
        "      <td>  9.750000</td>\n",
        "      <td> 0.017953</td>\n",
        "      <td> 0.662408</td>\n",
        "      <td> 322.875000</td>\n",
        "      <td> 0.125659</td>\n",
        "      <td> 0.242143</td>\n",
        "      <td> 0.346573</td>\n",
        "      <td> 0.432207</td>\n",
        "      <td> 0.525533</td>\n",
        "      <td> 0.629260</td>\n",
        "    </tr>\n",
        "  </tbody>\n",
        "</table>\n",
        "</div>"
       ],
       "metadata": {},
       "output_type": "pyout",
       "prompt_number": 4,
       "text": [
        "      #Bounces  %Bounces     Final     Targets    Week 1    Week 2    Week 3  \\\n",
        "12S   6.153846  0.028000  0.742182  212.000000  0.129027  0.312678  0.429805   \n",
        "12X   9.363636  0.011182  0.724608  524.727273  0.184481  0.284356  0.410241   \n",
        "12F   4.500000  0.015411  0.709429  291.625000  0.116879  0.217713  0.326194   \n",
        "13S   9.100000  0.016062  0.689533  460.500000  0.103894  0.244690  0.342716   \n",
        "13X   0.555556  0.004020  0.747325  138.333333  0.179453  0.329407  0.426832   \n",
        "13F  13.363636  0.021754  0.714550  383.181818  0.125097  0.246767  0.364901   \n",
        "14S   0.933333  0.006205  0.680076  188.333333  0.146100  0.289484  0.402183   \n",
        "14X   9.750000  0.017953  0.662408  322.875000  0.125659  0.242143  0.346573   \n",
        "\n",
        "       Week 4    Week 5    Week 6  \n",
        "12S  0.511060  0.616156  0.698942  \n",
        "12X  0.509324  0.599800  0.712279  \n",
        "12F  0.401153  0.600609  0.692081  \n",
        "13S  0.413866  0.570400  0.665306  \n",
        "13X  0.521058  0.647530  0.725291  \n",
        "13F  0.460820  0.594584  0.692178  \n",
        "14S  0.487027  0.588482  0.650898  \n",
        "14X  0.432207  0.525533  0.629260  "
       ]
      }
     ],
     "prompt_number": 4
    },
    {
     "cell_type": "code",
     "collapsed": false,
     "input": [],
     "language": "python",
     "metadata": {},
     "outputs": []
    }
   ],
   "metadata": {}
  }
 ]
}