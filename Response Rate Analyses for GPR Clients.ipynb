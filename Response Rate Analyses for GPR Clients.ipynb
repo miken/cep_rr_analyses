{
 "metadata": {
  "name": "",
  "signature": "sha256:eb384cc2edf7d40a8158b159cb10a97ec847c9f389effb7d3390b1f0bb13c16c"
 },
 "nbformat": 3,
 "nbformat_minor": 0,
 "worksheets": [
  {
   "cells": [
    {
     "cell_type": "markdown",
     "metadata": {},
     "source": [
      "![CEP Logo](http://www.effectivephilanthropy.org/wp-content/uploads/2013/04/CEP-logo1-300x120.png)\n",
      "\n",
      "# GPR Clients Response Rate Analyses\n",
      "Last updated October 15, 2014 by [Mike Nguyen](https://github.com/miken)\n",
      "\n",
      "This page summarizes analyses on clients' response rate data over several rounds of survey administration. The analyses will help us better understand how response rates fluctuate and respond to other factors.\n",
      "\n",
      "## Questions to Examine\n",
      "\n",
      "You can click on each question to jump to the relevant section in this document.\n",
      "\n",
      "- [What is the expected variations in overall response rates?](#overall_var)\n",
      "- [What is the variation in response rates by season?](#season_var)\n",
      "- [By season, is there a difference in pace of response rate gains, e.g., does Fall have a slow start?](#season_pace)\n",
      "- [Is there a correlation between response rate and bounce rate?](#rr_bounce)\n",
      "- [Is there a correlation between response rate and target size?](##rr_size)\n",
      "\n",
      "## Summary of Findings\n",
      "\n",
      "If you want to skip all the fluff, here's a summary of analysis findings:\n",
      "\n",
      "- In the past 8 rounds, the average response rate across the board is 71%. The highest response rate observed is 90% and the lowest is 49%\n",
      "- 95% of the times, we can expect the response rate for a given GPR client to be anywhere between 53% and 88%\n",
      "- No observable differences in how response rates and their progress rates vary by season\n",
      "- Weak correlation between response rate and bounce rate\n",
      "- Weak correlation between response rate and target size\n",
      "\n",
      "___"
     ]
    },
    {
     "cell_type": "markdown",
     "metadata": {},
     "source": [
      "## Methodology\n",
      "\n",
      "I use response rate data for 101 GPR clients collected over 8 rounds, from 12S to 14X.\n",
      "\n",
      "The following code block is used to initiate stat functions and overall client dataset for analyses. You may ignore it."
     ]
    },
    {
     "cell_type": "code",
     "collapsed": false,
     "input": [
      "from ops import to_perc, get_client_rr, rr_stats_by_round, show_expected_rr_range\n",
      "client_rr = get_client_rr()"
     ],
     "language": "python",
     "metadata": {},
     "outputs": [],
     "prompt_number": 1
    },
    {
     "cell_type": "markdown",
     "metadata": {},
     "source": [
      "The sections below provide more details on the analysis steps performed.\n",
      "___"
     ]
    },
    {
     "cell_type": "markdown",
     "metadata": {},
     "source": [
      "<h2 id=\"overall_var\">What is the expected variations in overall response rates?</h2>\n",
      "\n",
      "To answer this question, I first obtain descriptive statistics of the overall client dataset."
     ]
    },
    {
     "cell_type": "code",
     "collapsed": false,
     "input": [
      "# Here's how the descriptive statistics of the response rate dataset look\n",
      "rr_global_stats = client_rr.describe()\n",
      "rr_global_stats[\"Final\"]"
     ],
     "language": "python",
     "metadata": {},
     "outputs": [
      {
       "metadata": {},
       "output_type": "pyout",
       "prompt_number": 2,
       "text": [
        "count    101.000000\n",
        "mean       0.705454\n",
        "std        0.089551\n",
        "min        0.489691\n",
        "25%        0.639798\n",
        "50%        0.691983\n",
        "75%        0.770833\n",
        "max        0.897959\n",
        "Name: Final, dtype: float64"
       ]
      }
     ],
     "prompt_number": 2
    },
    {
     "cell_type": "markdown",
     "metadata": {},
     "source": [
      "From the descriptives above, the average response rate across the board is 71%. The highest response rate observed is 90% and the lowest is 49%.\n",
      "\n",
      "Following the [sigma rule](http://en.wikipedia.org/wiki/68%E2%80%9395%E2%80%9399.7_rule), I compute the range of response rates that we would expect to see most of the times for any GPR client."
     ]
    },
    {
     "cell_type": "code",
     "collapsed": false,
     "input": [
      "show_expected_rr_range(rr_global_stats)"
     ],
     "language": "python",
     "metadata": {},
     "outputs": [
      {
       "output_type": "stream",
       "stream": "stdout",
       "text": [
        "We can expect 95% of the times for response rates to be between 53%-88%\n"
       ]
      }
     ],
     "prompt_number": 3
    },
    {
     "cell_type": "markdown",
     "metadata": {},
     "source": [
      "The finding above concludes the analysis performed on overall variations of response rates.\n",
      "___"
     ]
    },
    {
     "cell_type": "markdown",
     "metadata": {},
     "source": [
      "## Response Rate Variation By Season or Within a Round\n",
      "\n",
      "We have several questions around this topic, including:\n",
      "\n",
      "- What is the variation in response rate across rounds/seasons? (Any expected differences across Fall/ Winter/Spring)?\n",
      "- What is the pace within those rounds, e.g. does fall have slow start?"
     ]
    },
    {
     "cell_type": "markdown",
     "metadata": {},
     "source": [
      "<h3 id=\"season_var\">Seasonal Variation in Response Rates</h3>\n",
      "\n",
      "For seasonal variation in response rates, I first look at mean response rates by season."
     ]
    },
    {
     "cell_type": "code",
     "collapsed": false,
     "input": [
      "client_rr.groupby('Season').mean().ix[[\"Spring\", \"Summer\", \"Fall\"]]"
     ],
     "language": "python",
     "metadata": {},
     "outputs": [
      {
       "html": [
        "<div style=\"max-height:1000px;max-width:1500px;overflow:auto;\">\n",
        "<table border=\"1\" class=\"dataframe\">\n",
        "  <thead>\n",
        "    <tr style=\"text-align: right;\">\n",
        "      <th></th>\n",
        "      <th>Week 1</th>\n",
        "      <th>Week 2</th>\n",
        "      <th>Week 3</th>\n",
        "      <th>Week 4</th>\n",
        "      <th>Week 5</th>\n",
        "      <th>Week 6</th>\n",
        "      <th>Final</th>\n",
        "      <th>Targets</th>\n",
        "      <th>#Bounces</th>\n",
        "      <th>%Bounces</th>\n",
        "    </tr>\n",
        "  </thead>\n",
        "  <tbody>\n",
        "    <tr>\n",
        "      <th>Spring</th>\n",
        "      <td> 0.129152</td>\n",
        "      <td> 0.285631</td>\n",
        "      <td> 0.395983</td>\n",
        "      <td> 0.475996</td>\n",
        "      <td> 0.593191</td>\n",
        "      <td> 0.671126</td>\n",
        "      <td> 0.703811</td>\n",
        "      <td> 268.052632</td>\n",
        "      <td> 4.868421</td>\n",
        "      <td> 0.016255</td>\n",
        "    </tr>\n",
        "    <tr>\n",
        "      <th>Summer</th>\n",
        "      <td> 0.157081</td>\n",
        "      <td> 0.276858</td>\n",
        "      <td> 0.386092</td>\n",
        "      <td> 0.477983</td>\n",
        "      <td> 0.578725</td>\n",
        "      <td> 0.678635</td>\n",
        "      <td> 0.702643</td>\n",
        "      <td> 338.416667</td>\n",
        "      <td> 7.333333</td>\n",
        "      <td> 0.012401</td>\n",
        "    </tr>\n",
        "    <tr>\n",
        "      <th>Fall</th>\n",
        "      <td> 0.120227</td>\n",
        "      <td> 0.229549</td>\n",
        "      <td> 0.341964</td>\n",
        "      <td> 0.425462</td>\n",
        "      <td> 0.598154</td>\n",
        "      <td> 0.692120</td>\n",
        "      <td> 0.711515</td>\n",
        "      <td> 328.925926</td>\n",
        "      <td> 8.111111</td>\n",
        "      <td> 0.017995</td>\n",
        "    </tr>\n",
        "  </tbody>\n",
        "</table>\n",
        "</div>"
       ],
       "metadata": {},
       "output_type": "pyout",
       "prompt_number": 7,
       "text": [
        "          Week 1    Week 2    Week 3    Week 4    Week 5    Week 6     Final  \\\n",
        "Spring  0.129152  0.285631  0.395983  0.475996  0.593191  0.671126  0.703811   \n",
        "Summer  0.157081  0.276858  0.386092  0.477983  0.578725  0.678635  0.702643   \n",
        "Fall    0.120227  0.229549  0.341964  0.425462  0.598154  0.692120  0.711515   \n",
        "\n",
        "           Targets  #Bounces  %Bounces  \n",
        "Spring  268.052632  4.868421  0.016255  \n",
        "Summer  338.416667  7.333333  0.012401  \n",
        "Fall    328.925926  8.111111  0.017995  "
       ]
      }
     ],
     "prompt_number": 7
    },
    {
     "cell_type": "markdown",
     "metadata": {},
     "source": [
      "From the table above, there is no observable differences in both final rates and rates' progress by season.\n",
      "\n",
      "<h3 id=\"season_pace\">Response Rate Pace by Round</h3>\n",
      "\n",
      "To answer these questions, I first generate a table of mean response rates over weeks in each round of administration. The following block code will get us the data we need."
     ]
    },
    {
     "cell_type": "code",
     "collapsed": false,
     "input": [
      "# Retrieve descriptive statistics by round\n",
      "round_stats = rr_stats_by_round(client_rr)\n",
      "round_stats[[\"Week 1\", \"Week 2\", \"Week 3\", \"Week 4\", \"Week 5\", \"Week 6\", \"Final\"]]"
     ],
     "language": "python",
     "metadata": {},
     "outputs": [
      {
       "html": [
        "<div style=\"max-height:1000px;max-width:1500px;overflow:auto;\">\n",
        "<table border=\"1\" class=\"dataframe\">\n",
        "  <thead>\n",
        "    <tr style=\"text-align: right;\">\n",
        "      <th></th>\n",
        "      <th>Week 1</th>\n",
        "      <th>Week 2</th>\n",
        "      <th>Week 3</th>\n",
        "      <th>Week 4</th>\n",
        "      <th>Week 5</th>\n",
        "      <th>Week 6</th>\n",
        "      <th>Final</th>\n",
        "    </tr>\n",
        "  </thead>\n",
        "  <tbody>\n",
        "    <tr>\n",
        "      <th>12S</th>\n",
        "      <td> 0.129027</td>\n",
        "      <td> 0.312678</td>\n",
        "      <td> 0.429805</td>\n",
        "      <td> 0.511060</td>\n",
        "      <td> 0.616156</td>\n",
        "      <td> 0.698942</td>\n",
        "      <td> 0.742182</td>\n",
        "    </tr>\n",
        "    <tr>\n",
        "      <th>12X</th>\n",
        "      <td> 0.184481</td>\n",
        "      <td> 0.284356</td>\n",
        "      <td> 0.410241</td>\n",
        "      <td> 0.509324</td>\n",
        "      <td> 0.599800</td>\n",
        "      <td> 0.712279</td>\n",
        "      <td> 0.724608</td>\n",
        "    </tr>\n",
        "    <tr>\n",
        "      <th>12F</th>\n",
        "      <td> 0.116879</td>\n",
        "      <td> 0.217713</td>\n",
        "      <td> 0.326194</td>\n",
        "      <td> 0.401153</td>\n",
        "      <td> 0.600609</td>\n",
        "      <td> 0.692081</td>\n",
        "      <td> 0.709429</td>\n",
        "    </tr>\n",
        "    <tr>\n",
        "      <th>13S</th>\n",
        "      <td> 0.103894</td>\n",
        "      <td> 0.244690</td>\n",
        "      <td> 0.342716</td>\n",
        "      <td> 0.413866</td>\n",
        "      <td> 0.570400</td>\n",
        "      <td> 0.665306</td>\n",
        "      <td> 0.689533</td>\n",
        "    </tr>\n",
        "    <tr>\n",
        "      <th>13X</th>\n",
        "      <td> 0.179453</td>\n",
        "      <td> 0.329407</td>\n",
        "      <td> 0.426832</td>\n",
        "      <td> 0.521058</td>\n",
        "      <td> 0.647530</td>\n",
        "      <td> 0.725291</td>\n",
        "      <td> 0.747325</td>\n",
        "    </tr>\n",
        "    <tr>\n",
        "      <th>13F</th>\n",
        "      <td> 0.125097</td>\n",
        "      <td> 0.246767</td>\n",
        "      <td> 0.364901</td>\n",
        "      <td> 0.460820</td>\n",
        "      <td> 0.594584</td>\n",
        "      <td> 0.692178</td>\n",
        "      <td> 0.714550</td>\n",
        "    </tr>\n",
        "    <tr>\n",
        "      <th>14S</th>\n",
        "      <td> 0.146100</td>\n",
        "      <td> 0.289484</td>\n",
        "      <td> 0.402183</td>\n",
        "      <td> 0.487027</td>\n",
        "      <td> 0.588482</td>\n",
        "      <td> 0.650898</td>\n",
        "      <td> 0.680076</td>\n",
        "    </tr>\n",
        "    <tr>\n",
        "      <th>14X</th>\n",
        "      <td> 0.125659</td>\n",
        "      <td> 0.242143</td>\n",
        "      <td> 0.346573</td>\n",
        "      <td> 0.432207</td>\n",
        "      <td> 0.525533</td>\n",
        "      <td> 0.629260</td>\n",
        "      <td> 0.662408</td>\n",
        "    </tr>\n",
        "  </tbody>\n",
        "</table>\n",
        "</div>"
       ],
       "metadata": {},
       "output_type": "pyout",
       "prompt_number": 8,
       "text": [
        "       Week 1    Week 2    Week 3    Week 4    Week 5    Week 6     Final\n",
        "12S  0.129027  0.312678  0.429805  0.511060  0.616156  0.698942  0.742182\n",
        "12X  0.184481  0.284356  0.410241  0.509324  0.599800  0.712279  0.724608\n",
        "12F  0.116879  0.217713  0.326194  0.401153  0.600609  0.692081  0.709429\n",
        "13S  0.103894  0.244690  0.342716  0.413866  0.570400  0.665306  0.689533\n",
        "13X  0.179453  0.329407  0.426832  0.521058  0.647530  0.725291  0.747325\n",
        "13F  0.125097  0.246767  0.364901  0.460820  0.594584  0.692178  0.714550\n",
        "14S  0.146100  0.289484  0.402183  0.487027  0.588482  0.650898  0.680076\n",
        "14X  0.125659  0.242143  0.346573  0.432207  0.525533  0.629260  0.662408"
       ]
      }
     ],
     "prompt_number": 8
    },
    {
     "cell_type": "markdown",
     "metadata": {},
     "source": [
      "The chart below shows the plot of how response rates progress over weeks for each round. In this plot, I do not observe any visible patterns in variations of response rates across seasons.\n",
      "\n",
      "![Response Rate Plot by Round](http://i.imgur.com/TOzGae3.png)\n",
      "\n",
      "The finding above concludes the analysis on seasonal variation of response rates.\n",
      "___"
     ]
    },
    {
     "cell_type": "markdown",
     "metadata": {},
     "source": [
      "## Correlation between response rates and other factors\n",
      "\n",
      "We are interested in how bounce rate or target size may influence the final response rate for a given funder. This section will explore this question.\n",
      "\n",
      "<diFirst, we'll perform the correlation test between response rates and bounce rates"
     ]
    },
    {
     "cell_type": "code",
     "collapsed": false,
     "input": [
      "from scipy.stats import pearsonr\n",
      "# Perform correlation test for response rate and bounce rate\n",
      "resp = client_rr[\"Final\"]\n",
      "bounce = client_rr[\"%Bounces\"]\n",
      "coeff, pvalue = pearsonr(resp, bounce)\n",
      "print 'The correlation coefficient is {}'.format(coeff)\n",
      "print 'The p-value for the correlation test is {}'.format(pvalue)"
     ],
     "language": "python",
     "metadata": {},
     "outputs": [
      {
       "output_type": "stream",
       "stream": "stdout",
       "text": [
        "The correlation coefficient is -0.21748978835\n",
        "The p-value for the correlation test is 0.0289062940154\n"
       ]
      }
     ],
     "prompt_number": 10
    },
    {
     "cell_type": "markdown",
     "metadata": {},
     "source": [
      "Given the test result above, I conclude that there is a **weak correlation between response rates and bounce rates.**\n",
      "___\n",
      "Next, I perform the correlation test between response rates and funder sizes."
     ]
    },
    {
     "cell_type": "code",
     "collapsed": false,
     "input": [
      "# Perform correlation test for response rate and target size\n",
      "size = client_rr[\"Targets\"]\n",
      "coeff, pvalue = pearsonr(resp, size)\n",
      "print 'The correlation coefficient is {}'.format(coeff)\n",
      "print 'The p-value for the correlation test is {}'.format(pvalue)"
     ],
     "language": "python",
     "metadata": {},
     "outputs": [
      {
       "output_type": "stream",
       "stream": "stdout",
       "text": [
        "The correlation coefficient is -0.351674289742\n",
        "The p-value for the correlation test is 0.00031071516514\n"
       ]
      }
     ],
     "prompt_number": 11
    },
    {
     "cell_type": "markdown",
     "metadata": {},
     "source": [
      "Given the test result above, I conclude that there is a **weak correlation between response rates and bounce rates.**\n",
      "___"
     ]
    }
   ],
   "metadata": {}
  }
 ]
}