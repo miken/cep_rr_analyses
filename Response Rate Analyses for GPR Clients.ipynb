{
 "metadata": {
  "name": "",
  "signature": "sha256:c1f965e009219a29f80203aad49cef0581ed09296932d40f4a182ee71731b025"
 },
 "nbformat": 3,
 "nbformat_minor": 0,
 "worksheets": [
  {
   "cells": [
    {
     "cell_type": "markdown",
     "metadata": {},
     "source": [
      "# GPR Clients Response Rate Analyses\n",
      "Last updated October 15, 2014 by [Mike Nguyen](https://github.com/miken)\n",
      "\n",
      "This page summarizes analyses on clients' response rate data over several rounds of survey administration. The analyses will help us better understand how response rates fluctuate and respond to other factors.\n",
      "\n",
      "## Questions to Examine\n",
      "\n",
      "- What is the expected variations in response rate?\n",
      "- Is there a correlation between response rate and bounce rate?\n",
      "- Is there a correlation between response rate and target size?\n",
      "- What is the variation in response rates by season?\n",
      "- By season, is there a difference in pace of response rate gains, e.g., does Fall have a slow start?\n",
      "\n",
      "## Methodology\n",
      "\n",
      "We used response rate data for 101 GPR clients collected over 8 rounds, from 12S to 14X.\n",
      "\n",
      "The following code block is used to initiate overall client dataset for analyses. You may ignore it."
     ]
    },
    {
     "cell_type": "code",
     "collapsed": false,
     "input": [
      "from ops import to_perc, get_client_rr\n",
      "client_rr = get_client_rr()"
     ],
     "language": "python",
     "metadata": {},
     "outputs": [],
     "prompt_number": 5
    },
    {
     "cell_type": "markdown",
     "metadata": {},
     "source": [
      "## 1. What is the expected variations in response rates?\n",
      "\n",
      "### Summary of Findings\n",
      "\n",
      "If you want to skip all the fluff, here's everything you need to know about the expected variations in response rates\n",
      "\n",
      "- In the past 8 rounds, the average response rate across the board is 71%. The highest response rate observed is 90% and the lowest is 49%\n",
      "- 95% of the times, we can expect the response rate for a given GPR client to be anywhere between 53% and 88%\n",
      "- finding 2\n",
      "- finding 3"
     ]
    },
    {
     "cell_type": "markdown",
     "metadata": {},
     "source": [
      "### Analysis Details\n",
      "\n",
      "This section provides more details on the analyses performed. There are a few sub-questions under this headline that I want to explore:\n",
      "\n",
      "### Given the response rates observed so far, what is the range of response rates that we can expect to see for any GPR client?\n",
      "To answer this question, I first obtained descriptive statistics of the overall client dataset."
     ]
    },
    {
     "cell_type": "code",
     "collapsed": false,
     "input": [
      "# Here's how the descriptive statistics of the response rate dataset look\n",
      "rr_global_stats = client_rr.describe()\n",
      "rr_global_stats[\"Final\"]"
     ],
     "language": "python",
     "metadata": {},
     "outputs": [
      {
       "metadata": {},
       "output_type": "pyout",
       "prompt_number": 6,
       "text": [
        "count    101.000000\n",
        "mean       0.705454\n",
        "std        0.089551\n",
        "min        0.489691\n",
        "25%        0.639798\n",
        "50%        0.691983\n",
        "75%        0.770833\n",
        "max        0.897959\n",
        "Name: Final, dtype: float64"
       ]
      }
     ],
     "prompt_number": 6
    },
    {
     "cell_type": "markdown",
     "metadata": {},
     "source": [
      "From the descriptives above, the average response rate across the board is 71%. The highest response rate observed is 90% and the lowest is 49%.\n",
      "\n",
      "Following the [sigma rule](http://en.wikipedia.org/wiki/68%E2%80%9395%E2%80%9399.7_rule), I compute the range of response rates that we would expect to see most of the times for any GPR client."
     ]
    },
    {
     "cell_type": "code",
     "collapsed": false,
     "input": [
      "mean = rr_global_stats.ix['mean', 'Final'] \n",
      "std = rr_global_stats.ix['std', 'Final']\n",
      "# Compute the low and the high values \n",
      "# 67% range of response rates\n",
      "low_rr_67 = mean - 2*std\n",
      "high_rr_67 = mean + 2*std\n",
      "print 'We can expect 95% of the times for response rates to be between {low}-{high}'.format(\n",
      "    low=to_perc(low_rr_67),\n",
      "    high=to_perc(high_rr_67)\n",
      ")"
     ],
     "language": "python",
     "metadata": {},
     "outputs": [
      {
       "output_type": "stream",
       "stream": "stdout",
       "text": [
        "We can expect 95% of the times for response rates to be between 53%-88%\n"
       ]
      }
     ],
     "prompt_number": 7
    },
    {
     "cell_type": "code",
     "collapsed": false,
     "input": [],
     "language": "python",
     "metadata": {},
     "outputs": []
    }
   ],
   "metadata": {}
  }
 ]
}