{
 "metadata": {
  "name": "",
  "signature": "sha256:4839a78e6c2d0defd78385028f2f60509eddaa4dde5cbf4b0e7cd0fa08fa40db"
 },
 "nbformat": 3,
 "nbformat_minor": 0,
 "worksheets": [
  {
   "cells": [
    {
     "cell_type": "markdown",
     "metadata": {},
     "source": [
      "![CEP Logo](http://www.effectivephilanthropy.org/wp-content/uploads/2013/04/CEP-logo1-300x120.png)\n",
      "\n",
      "# GPR Clients Response Rate Analyses\n",
      "Last updated December 19, 2014 by [Mike Nguyen](https://github.com/miken)\n",
      "\n",
      "This page summarizes analyses on clients' response rate data over several rounds of survey administration. The analyses will help us better understand how response rates fluctuate and respond to other factors.\n",
      "\n",
      "## Questions to Examine\n",
      "\n",
      "You can click on each question to jump to the relevant section in this document.\n",
      "\n",
      "- [What is the expected variation in overall response rates?](#overall_var)\n",
      "- [Are response rates from recent rounds lower than previous rounds?](#ttest)\n",
      "\n",
      "\n",
      "## Summary of Findings\n",
      "\n",
      "If you want to skip all the fluff, here's a summary of analysis findings:\n",
      "\n",
      "- In the past 10 rounds, the average response rate across the board is **70%.** The highest response rate observed is **90%** and the lowest is **49%**\n",
      "- 95% of the times, we can expect the response rate for a given GPR client to be anywhere between **52% and 87%.**\n",
      "- At **66%**, the most recent October round shows an uptick against the downward trend in response rates in the previous 5 rounds.\n",
      "- The mean response rate from the most recent 3 rounds (14O, 14F, 14X) is **71%** and the mean response rate from the previous rounds is **66%**. This difference is significant.\n",
      "\n",
      "___\n",
      "\n",
      "## Methodology\n",
      "\n",
      "I use response rate data for 123 GPR clients collected over 10 rounds, from 12S to 14O.\n",
      "\n",
      "The following code block is used to initiate stat functions and overall client dataset for analyses. You may ignore it."
     ]
    },
    {
     "cell_type": "code",
     "collapsed": false,
     "input": [
      "import pandas as pd\n",
      "data = pd.read_csv('client_rr_data_14O.csv')"
     ],
     "language": "python",
     "metadata": {},
     "outputs": [],
     "prompt_number": 1
    },
    {
     "cell_type": "markdown",
     "metadata": {},
     "source": [
      "The sections below provide more details on the analysis steps performed.\n",
      "___"
     ]
    },
    {
     "cell_type": "markdown",
     "metadata": {},
     "source": [
      "<h2 id=\"overall_var\">What is the expected variation in overall response rates?</h2>\n",
      "\n",
      "To answer this question, I first obtain descriptive statistics of the overall client dataset."
     ]
    },
    {
     "cell_type": "code",
     "collapsed": false,
     "input": [
      "# Here's how the descriptive statistics of the response rate dataset look\n",
      "rr_global_stats = data.describe()\n",
      "rr_global_stats[\"Final\"]"
     ],
     "language": "python",
     "metadata": {},
     "outputs": [
      {
       "metadata": {},
       "output_type": "pyout",
       "prompt_number": 2,
       "text": [
        "count    123.000000\n",
        "mean       0.696342\n",
        "std        0.087601\n",
        "min        0.489691\n",
        "25%        0.638027\n",
        "50%        0.683824\n",
        "75%        0.753635\n",
        "max        0.897959\n",
        "Name: Final, dtype: float64"
       ]
      }
     ],
     "prompt_number": 2
    },
    {
     "cell_type": "markdown",
     "metadata": {},
     "source": [
      "From the descriptives above, the average response rate across the board is 70%. The highest response rate observed is 90% and the lowest is 49%.\n",
      "\n",
      "Following the [sigma rule](http://en.wikipedia.org/wiki/68%E2%80%9395%E2%80%9399.7_rule), I compute the range of response rates that we would expect to see most of the times for any GPR client."
     ]
    },
    {
     "cell_type": "code",
     "collapsed": false,
     "input": [
      "from ops import show_expected_rr_range\n",
      "show_expected_rr_range(rr_global_stats)"
     ],
     "language": "python",
     "metadata": {},
     "outputs": [
      {
       "output_type": "stream",
       "stream": "stdout",
       "text": [
        "We can expect 95% of the times for response rates to be between 52%-87%\n"
       ]
      }
     ],
     "prompt_number": 3
    },
    {
     "cell_type": "markdown",
     "metadata": {},
     "source": [
      "The finding above concludes the analysis performed on overall variations of response rates.\n",
      "___"
     ]
    },
    {
     "cell_type": "markdown",
     "metadata": {},
     "source": [
      "Let's also take a look, graphically, at how response rates vary from round to round:"
     ]
    },
    {
     "cell_type": "code",
     "collapsed": false,
     "input": [
      "rr_round = data.groupby(\"Round\").mean()\n",
      "# Round ordering\n",
      "round_order = {\n",
      "    '12S': 1,\n",
      "    '12X': 2,\n",
      "    '12F': 3,\n",
      "    '13S': 4,\n",
      "    '13X': 5,\n",
      "    '13F': 6,\n",
      "    '14S': 7,\n",
      "    '14X': 8,\n",
      "    '14F': 9,\n",
      "    '14O': 10,\n",
      "}\n",
      "rr_round = rr_round.reset_index()\n",
      "rr_round['round_num'] = rr_round['Round'].map(round_order)\n",
      "rr_round = rr_round.sort('round_num', ascending=False)\n",
      "rr_round = rr_round.set_index('Round')\n",
      "rr_round"
     ],
     "language": "python",
     "metadata": {},
     "outputs": [
      {
       "html": [
        "<div style=\"max-height:1000px;max-width:1500px;overflow:auto;\">\n",
        "<table border=\"1\" class=\"dataframe\">\n",
        "  <thead>\n",
        "    <tr style=\"text-align: right;\">\n",
        "      <th></th>\n",
        "      <th>Final</th>\n",
        "      <th>Targets</th>\n",
        "      <th>round_num</th>\n",
        "    </tr>\n",
        "    <tr>\n",
        "      <th>Round</th>\n",
        "      <th></th>\n",
        "      <th></th>\n",
        "      <th></th>\n",
        "    </tr>\n",
        "  </thead>\n",
        "  <tbody>\n",
        "    <tr>\n",
        "      <th>14O</th>\n",
        "      <td> 0.661872</td>\n",
        "      <td> 592.142857</td>\n",
        "      <td> 10</td>\n",
        "    </tr>\n",
        "    <tr>\n",
        "      <th>14F</th>\n",
        "      <td> 0.651071</td>\n",
        "      <td> 255.933333</td>\n",
        "      <td>  9</td>\n",
        "    </tr>\n",
        "    <tr>\n",
        "      <th>14X</th>\n",
        "      <td> 0.662408</td>\n",
        "      <td> 322.875000</td>\n",
        "      <td>  8</td>\n",
        "    </tr>\n",
        "    <tr>\n",
        "      <th>14S</th>\n",
        "      <td> 0.680076</td>\n",
        "      <td> 188.333333</td>\n",
        "      <td>  7</td>\n",
        "    </tr>\n",
        "    <tr>\n",
        "      <th>13F</th>\n",
        "      <td> 0.714550</td>\n",
        "      <td> 383.181818</td>\n",
        "      <td>  6</td>\n",
        "    </tr>\n",
        "    <tr>\n",
        "      <th>13X</th>\n",
        "      <td> 0.747325</td>\n",
        "      <td> 138.333333</td>\n",
        "      <td>  5</td>\n",
        "    </tr>\n",
        "    <tr>\n",
        "      <th>13S</th>\n",
        "      <td> 0.689533</td>\n",
        "      <td> 460.500000</td>\n",
        "      <td>  4</td>\n",
        "    </tr>\n",
        "    <tr>\n",
        "      <th>12F</th>\n",
        "      <td> 0.709429</td>\n",
        "      <td> 291.625000</td>\n",
        "      <td>  3</td>\n",
        "    </tr>\n",
        "    <tr>\n",
        "      <th>12X</th>\n",
        "      <td> 0.724608</td>\n",
        "      <td> 524.727273</td>\n",
        "      <td>  2</td>\n",
        "    </tr>\n",
        "    <tr>\n",
        "      <th>12S</th>\n",
        "      <td> 0.742182</td>\n",
        "      <td> 212.000000</td>\n",
        "      <td>  1</td>\n",
        "    </tr>\n",
        "  </tbody>\n",
        "</table>\n",
        "</div>"
       ],
       "metadata": {},
       "output_type": "pyout",
       "prompt_number": 10,
       "text": [
        "          Final     Targets  round_num\n",
        "Round                                 \n",
        "14O    0.661872  592.142857         10\n",
        "14F    0.651071  255.933333          9\n",
        "14X    0.662408  322.875000          8\n",
        "14S    0.680076  188.333333          7\n",
        "13F    0.714550  383.181818          6\n",
        "13X    0.747325  138.333333          5\n",
        "13S    0.689533  460.500000          4\n",
        "12F    0.709429  291.625000          3\n",
        "12X    0.724608  524.727273          2\n",
        "12S    0.742182  212.000000          1"
       ]
      }
     ],
     "prompt_number": 10
    },
    {
     "cell_type": "code",
     "collapsed": false,
     "input": [
      "# Plot response rate graph\n",
      "rr_round['Final'].plot(kind='barh', title='Response Rate Variation by Round', figsize=(16,8))"
     ],
     "language": "python",
     "metadata": {},
     "outputs": [
      {
       "metadata": {},
       "output_type": "pyout",
       "prompt_number": 5,
       "text": [
        "<matplotlib.axes._subplots.AxesSubplot at 0x10f9d4450>"
       ]
      },
      {
       "metadata": {},
       "output_type": "display_data",
       "png": "[encoded data removed]",
       "text": [
        "<matplotlib.figure.Figure at 0x10f9d4b90>"
       ]
      }
     ],
     "prompt_number": 5
    },
    {
     "cell_type": "markdown",
     "metadata": {},
     "source": [
      "With the conclusion of the most recent October round, we start to see an uptick in response rate against the downward trend for the previous five rounds."
     ]
    },
    {
     "cell_type": "markdown",
     "metadata": {},
     "source": [
      "<h2 id=\"ttest\">Are response rates from recent rounds lower than previous rounds?</h2>\n",
      "\n",
      "To answer this question, I'll divide the response rate dataset into two groups:\n",
      "\n",
      "- Group 1: All clients up to 14S\n",
      "- Group 2: Clients from the most recent 3 rounds: 14O, 14F, and 14X\n",
      "\n",
      "Then perform a T-test to see whether the groups' means are significantly different."
     ]
    },
    {
     "cell_type": "code",
     "collapsed": false,
     "input": [
      "recent = ['14O', '14F', '14X']\n",
      "group_1 = data[~data['Round'].isin(recent)]['Final']\n",
      "group_2 = data[data['Round'].isin(recent)]['Final']"
     ],
     "language": "python",
     "metadata": {},
     "outputs": [],
     "prompt_number": 6
    },
    {
     "cell_type": "code",
     "collapsed": false,
     "input": [
      "group_1.mean()"
     ],
     "language": "python",
     "metadata": {},
     "outputs": [
      {
       "metadata": {},
       "output_type": "pyout",
       "prompt_number": 7,
       "text": [
        "0.71355713705882351"
       ]
      }
     ],
     "prompt_number": 7
    },
    {
     "cell_type": "code",
     "collapsed": false,
     "input": [
      "group_2.mean()"
     ],
     "language": "python",
     "metadata": {},
     "outputs": [
      {
       "metadata": {},
       "output_type": "pyout",
       "prompt_number": 8,
       "text": [
        "0.65783415528947375"
       ]
      }
     ],
     "prompt_number": 8
    },
    {
     "cell_type": "code",
     "collapsed": false,
     "input": [
      "from ops import cep_ttest\n",
      "cep_ttest(group_1, group_2)"
     ],
     "language": "python",
     "metadata": {},
     "outputs": [
      {
       "metadata": {},
       "output_type": "pyout",
       "prompt_number": 9,
       "text": [
        "{'cohen': 0.68081357623471472,\n",
        " 'g1_mean': 0.71355713705882351,\n",
        " 'g1_n': 85,\n",
        " 'g2_mean': 0.65783415528947375,\n",
        " 'g2_n': 38,\n",
        " 'pval': 0.00092066532441975829,\n",
        " 'sign': '0.06*',\n",
        " 'test': 'Standard',\n",
        " 'verdict': 'Medium Effect Size'}"
       ]
      }
     ],
     "prompt_number": 9
    },
    {
     "cell_type": "markdown",
     "metadata": {},
     "source": [
      "The T-Test result shows that the response rate mean difference between the two groups is significant."
     ]
    },
    {
     "cell_type": "code",
     "collapsed": false,
     "input": [],
     "language": "python",
     "metadata": {},
     "outputs": []
    }
   ],
   "metadata": {}
  }
 ]
}